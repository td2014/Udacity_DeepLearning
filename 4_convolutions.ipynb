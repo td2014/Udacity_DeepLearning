{
 "cells": [
  {
   "cell_type": "markdown",
   "metadata": {
    "colab_type": "text",
    "id": "4embtkV0pNxM"
   },
   "source": [
    "Deep Learning\n",
    "=============\n",
    "\n",
    "Assignment 4\n",
    "------------\n",
    "\n",
    "Previously in `2_fullyconnected.ipynb` and `3_regularization.ipynb`, we trained fully connected networks to classify [notMNIST](http://yaroslavvb.blogspot.com/2011/09/notmnist-dataset.html) characters.\n",
    "\n",
    "The goal of this assignment is make the neural network convolutional."
   ]
  },
  {
   "cell_type": "code",
   "execution_count": null,
   "metadata": {
    "cellView": "both",
    "colab": {
     "autoexec": {
      "startup": false,
      "wait_interval": 0
     }
    },
    "colab_type": "code",
    "collapsed": true,
    "id": "tm2CQN_Cpwj0"
   },
   "outputs": [],
   "source": [
    "# These are all the modules we'll be using later. Make sure you can import them\n",
    "# before proceeding further.\n",
    "from __future__ import print_function\n",
    "import numpy as np\n",
    "import tensorflow as tf\n",
    "from six.moves import cPickle as pickle\n",
    "from six.moves import range"
   ]
  },
  {
   "cell_type": "code",
   "execution_count": null,
   "metadata": {
    "cellView": "both",
    "colab": {
     "autoexec": {
      "startup": false,
      "wait_interval": 0
     },
     "output_extras": [
      {
       "item_id": 1
      }
     ]
    },
    "colab_type": "code",
    "collapsed": false,
    "executionInfo": {
     "elapsed": 11948,
     "status": "ok",
     "timestamp": 1446658914837,
     "user": {
      "color": "",
      "displayName": "",
      "isAnonymous": false,
      "isMe": true,
      "permissionId": "",
      "photoUrl": "",
      "sessionId": "0",
      "userId": ""
     },
     "user_tz": 480
    },
    "id": "y3-cj1bpmuxc",
    "outputId": "016b1a51-0290-4b08-efdb-8c95ffc3cd01"
   },
   "outputs": [],
   "source": [
    "pickle_file = 'notMNIST.pickle'\n",
    "\n",
    "with open(pickle_file, 'rb') as f:\n",
    "  save = pickle.load(f)\n",
    "  train_dataset = save['train_dataset']\n",
    "  train_labels = save['train_labels']\n",
    "  valid_dataset = save['valid_dataset']\n",
    "  valid_labels = save['valid_labels']\n",
    "  test_dataset = save['test_dataset']\n",
    "  test_labels = save['test_labels']\n",
    "  del save  # hint to help gc free up memory\n",
    "  print('Training set', train_dataset.shape, train_labels.shape)\n",
    "  print('Validation set', valid_dataset.shape, valid_labels.shape)\n",
    "  print('Test set', test_dataset.shape, test_labels.shape)"
   ]
  },
  {
   "cell_type": "markdown",
   "metadata": {
    "colab_type": "text",
    "id": "L7aHrm6nGDMB"
   },
   "source": [
    "Reformat into a TensorFlow-friendly shape:\n",
    "- convolutions need the image data formatted as a cube (width by height by #channels)\n",
    "- labels as float 1-hot encodings."
   ]
  },
  {
   "cell_type": "code",
   "execution_count": null,
   "metadata": {
    "cellView": "both",
    "colab": {
     "autoexec": {
      "startup": false,
      "wait_interval": 0
     },
     "output_extras": [
      {
       "item_id": 1
      }
     ]
    },
    "colab_type": "code",
    "collapsed": false,
    "executionInfo": {
     "elapsed": 11952,
     "status": "ok",
     "timestamp": 1446658914857,
     "user": {
      "color": "",
      "displayName": "",
      "isAnonymous": false,
      "isMe": true,
      "permissionId": "",
      "photoUrl": "",
      "sessionId": "0",
      "userId": ""
     },
     "user_tz": 480
    },
    "id": "IRSyYiIIGIzS",
    "outputId": "650a208c-8359-4852-f4f5-8bf10e80ef6c"
   },
   "outputs": [],
   "source": [
    "image_size = 28\n",
    "num_labels = 10\n",
    "num_channels = 1 # grayscale\n",
    "\n",
    "import numpy as np\n",
    "\n",
    "def reformat(dataset, labels):\n",
    "  dataset = dataset.reshape(\n",
    "    (-1, image_size, image_size, num_channels)).astype(np.float32)\n",
    "  labels = (np.arange(num_labels) == labels[:,None]).astype(np.float32)\n",
    "  return dataset, labels\n",
    "train_dataset, train_labels = reformat(train_dataset, train_labels)\n",
    "valid_dataset, valid_labels = reformat(valid_dataset, valid_labels)\n",
    "test_dataset, test_labels = reformat(test_dataset, test_labels)\n",
    "print('Training set', train_dataset.shape, train_labels.shape)\n",
    "print('Validation set', valid_dataset.shape, valid_labels.shape)\n",
    "print('Test set', test_dataset.shape, test_labels.shape)"
   ]
  },
  {
   "cell_type": "code",
   "execution_count": null,
   "metadata": {
    "cellView": "both",
    "colab": {
     "autoexec": {
      "startup": false,
      "wait_interval": 0
     }
    },
    "colab_type": "code",
    "collapsed": true,
    "id": "AgQDIREv02p1"
   },
   "outputs": [],
   "source": [
    "def accuracy(predictions, labels):\n",
    "  return (100.0 * np.sum(np.argmax(predictions, 1) == np.argmax(labels, 1))\n",
    "          / predictions.shape[0])"
   ]
  },
  {
   "cell_type": "markdown",
   "metadata": {
    "colab_type": "text",
    "id": "5rhgjmROXu2O"
   },
   "source": [
    "Let's build a small network with two convolutional layers, followed by one fully connected layer. Convolutional networks are more expensive computationally, so we'll limit its depth and number of fully connected nodes."
   ]
  },
  {
   "cell_type": "code",
   "execution_count": null,
   "metadata": {
    "cellView": "both",
    "colab": {
     "autoexec": {
      "startup": false,
      "wait_interval": 0
     }
    },
    "colab_type": "code",
    "collapsed": true,
    "id": "IZYv70SvvOan"
   },
   "outputs": [],
   "source": [
    "batch_size = 16\n",
    "patch_size = 5\n",
    "depth = 16\n",
    "num_hidden = 64\n",
    "\n",
    "graph = tf.Graph()\n",
    "\n",
    "with graph.as_default():\n",
    "\n",
    "  # Input data.\n",
    "  tf_train_dataset = tf.placeholder(\n",
    "    tf.float32, shape=(batch_size, image_size, image_size, num_channels))\n",
    "  tf_train_labels = tf.placeholder(tf.float32, shape=(batch_size, num_labels))\n",
    "  tf_valid_dataset = tf.constant(valid_dataset)\n",
    "  tf_test_dataset = tf.constant(test_dataset)\n",
    "  \n",
    "  # Variables.\n",
    "  layer1_weights = tf.Variable(tf.truncated_normal(\n",
    "      [patch_size, patch_size, num_channels, depth], stddev=0.1))\n",
    "  layer1_biases = tf.Variable(tf.zeros([depth]))\n",
    "  layer2_weights = tf.Variable(tf.truncated_normal(\n",
    "      [patch_size, patch_size, depth, depth], stddev=0.1))\n",
    "  layer2_biases = tf.Variable(tf.constant(1.0, shape=[depth]))\n",
    "  layer3_weights = tf.Variable(tf.truncated_normal(\n",
    "      [image_size // 4 * image_size // 4 * depth, num_hidden], stddev=0.1))\n",
    "  layer3_biases = tf.Variable(tf.constant(1.0, shape=[num_hidden]))\n",
    "  layer4_weights = tf.Variable(tf.truncated_normal(\n",
    "      [num_hidden, num_labels], stddev=0.1))\n",
    "  layer4_biases = tf.Variable(tf.constant(1.0, shape=[num_labels]))\n",
    "  \n",
    "  # Model.\n",
    "  def model(data):\n",
    "    conv = tf.nn.conv2d(data, layer1_weights, [1, 2, 2, 1], padding='SAME')\n",
    "    hidden = tf.nn.relu(conv + layer1_biases)\n",
    "    conv = tf.nn.conv2d(hidden, layer2_weights, [1, 2, 2, 1], padding='SAME')\n",
    "    hidden = tf.nn.relu(conv + layer2_biases)\n",
    "    shape = hidden.get_shape().as_list()\n",
    "    reshape = tf.reshape(hidden, [shape[0], shape[1] * shape[2] * shape[3]])\n",
    "    hidden = tf.nn.relu(tf.matmul(reshape, layer3_weights) + layer3_biases)\n",
    "    return tf.matmul(hidden, layer4_weights) + layer4_biases\n",
    "  \n",
    "  # Training computation.\n",
    "  logits = model(tf_train_dataset)\n",
    "  loss = tf.reduce_mean(\n",
    "    tf.nn.softmax_cross_entropy_with_logits(labels=tf_train_labels, logits=logits))\n",
    "    \n",
    "  # Optimizer.\n",
    "  optimizer = tf.train.GradientDescentOptimizer(0.05).minimize(loss)\n",
    "  \n",
    "  # Predictions for the training, validation, and test data.\n",
    "  train_prediction = tf.nn.softmax(logits)\n",
    "  valid_prediction = tf.nn.softmax(model(tf_valid_dataset))\n",
    "  test_prediction = tf.nn.softmax(model(tf_test_dataset))"
   ]
  },
  {
   "cell_type": "code",
   "execution_count": null,
   "metadata": {
    "cellView": "both",
    "colab": {
     "autoexec": {
      "startup": false,
      "wait_interval": 0
     },
     "output_extras": [
      {
       "item_id": 37
      }
     ]
    },
    "colab_type": "code",
    "collapsed": false,
    "executionInfo": {
     "elapsed": 63292,
     "status": "ok",
     "timestamp": 1446658966251,
     "user": {
      "color": "",
      "displayName": "",
      "isAnonymous": false,
      "isMe": true,
      "permissionId": "",
      "photoUrl": "",
      "sessionId": "0",
      "userId": ""
     },
     "user_tz": 480
    },
    "id": "noKFb2UovVFR",
    "outputId": "28941338-2ef9-4088-8bd1-44295661e628"
   },
   "outputs": [],
   "source": [
    "num_steps = 1001\n",
    "\n",
    "with tf.Session(graph=graph) as session:\n",
    "  tf.global_variables_initializer().run()\n",
    "  print('Initialized')\n",
    "  for step in range(num_steps):\n",
    "    offset = (step * batch_size) % (train_labels.shape[0] - batch_size)\n",
    "    batch_data = train_dataset[offset:(offset + batch_size), :, :, :]\n",
    "    batch_labels = train_labels[offset:(offset + batch_size), :]\n",
    "    feed_dict = {tf_train_dataset : batch_data, tf_train_labels : batch_labels}\n",
    "    _, l, predictions = session.run(\n",
    "      [optimizer, loss, train_prediction], feed_dict=feed_dict)\n",
    "    if (step % 50 == 0):\n",
    "      print('Minibatch loss at step %d: %f' % (step, l))\n",
    "      print('Minibatch accuracy: %.1f%%' % accuracy(predictions, batch_labels))\n",
    "      print('Validation accuracy: %.1f%%' % accuracy(\n",
    "        valid_prediction.eval(), valid_labels))\n",
    "  print('Test accuracy: %.1f%%' % accuracy(test_prediction.eval(), test_labels))"
   ]
  },
  {
   "cell_type": "markdown",
   "metadata": {
    "colab_type": "text",
    "id": "KedKkn4EutIK"
   },
   "source": [
    "---\n",
    "Problem 1\n",
    "---------\n",
    "\n",
    "The convolutional model above uses convolutions with stride 2 to reduce the dimensionality. Replace the strides by a max pooling operation (`nn.max_pool()`) of stride 2 and kernel size 2.\n",
    "\n",
    "---"
   ]
  },
  {
   "cell_type": "code",
   "execution_count": null,
   "metadata": {
    "collapsed": false
   },
   "outputs": [],
   "source": [
    "batch_size = 16\n",
    "patch_size = 5\n",
    "depth = 16\n",
    "num_hidden = 64\n",
    "\n",
    "graph = tf.Graph()\n",
    "\n",
    "with graph.as_default():\n",
    "  tf.set_random_seed(1234)\n",
    "\n",
    "  # Input data.\n",
    "  tf_train_dataset = tf.placeholder(\n",
    "    tf.float32, shape=(batch_size, image_size, image_size, num_channels))\n",
    "  tf_train_labels = tf.placeholder(tf.float32, shape=(batch_size, num_labels))\n",
    "  tf_valid_dataset = tf.constant(valid_dataset)\n",
    "  tf_test_dataset = tf.constant(test_dataset)\n",
    "  \n",
    "  # Variables.\n",
    "  layer1_weights = tf.Variable(tf.truncated_normal(\n",
    "      [patch_size, patch_size, num_channels, depth], stddev=0.1, seed=12345), name='layer1_weights')\n",
    "  layer1_biases = tf.Variable(tf.zeros([depth]), name='layer1_biases')\n",
    "  layer2_weights = tf.Variable(tf.truncated_normal(\n",
    "      [patch_size, patch_size, depth, depth], stddev=0.1, seed=12347), name='layer2_weights')\n",
    "  layer2_biases = tf.Variable(tf.constant(1.0, shape=[depth]), name='layer2_biases')\n",
    "  layer3_weights = tf.Variable(tf.truncated_normal(\n",
    "      [image_size // 4 * image_size // 4 * depth, num_hidden], stddev=0.1, seed=12349), name='layer3_weights')\n",
    "  layer3_biases = tf.Variable(tf.constant(1.0, shape=[num_hidden]), name='layer3_biases')\n",
    "  layer4_weights = tf.Variable(tf.truncated_normal(\n",
    "      [num_hidden, num_labels], stddev=0.1, seed=12351), name='layer4_weights')\n",
    "  layer4_biases = tf.Variable(tf.constant(1.0, shape=[num_labels]), name='layer4_biases')\n",
    "  \n",
    "  # Model.\n",
    "  def model(data):\n",
    "###    conv1 = tf.nn.conv2d(data, layer1_weights, [1, 2, 2, 1], padding='SAME', name='conv1')\n",
    "    conv1 = tf.nn.conv2d(data, layer1_weights, [1, 1, 1, 1], padding='SAME', name='conv1')\n",
    "    max_pool_1 = tf.nn.max_pool(conv1, ksize=[1,2,2,1], strides=[1,2,2,1], padding='SAME',name='max_pool_1')\n",
    "###    hidden1 = tf.nn.relu(conv1 + layer1_biases, name='hidden_relu_1')\n",
    "    hidden1 = tf.nn.relu(max_pool_1 + layer1_biases, name='hidden_relu_1')\n",
    "###    conv2 = tf.nn.conv2d(hidden1, layer2_weights, [1, 2, 2, 1], padding='SAME', name='conv2')\n",
    "    conv2 = tf.nn.conv2d(hidden1, layer2_weights, [1, 1, 1, 1], padding='SAME', name='conv2')\n",
    "    max_pool_2 = tf.nn.max_pool(conv2, ksize=[1,2,2,1], strides=[1,2,2,1], padding='SAME',name='max_pool_2')\n",
    "###    hidden2 = tf.nn.relu(conv2 + layer2_biases, name='hidden_relu_2')\n",
    "    hidden2 = tf.nn.relu(max_pool_2 + layer2_biases, name='hidden_relu_2')\n",
    "    shape = hidden2.get_shape().as_list()\n",
    "    reshape = tf.reshape(hidden2, [shape[0], shape[1] * shape[2] * shape[3]])\n",
    "    hidden3 = tf.nn.relu(tf.matmul(reshape, layer3_weights) + layer3_biases, name='hidden_relu_3')\n",
    "    return tf.matmul(hidden3, layer4_weights) + layer4_biases\n",
    "  \n",
    "  # Training computation.\n",
    "  logits = model(tf_train_dataset)\n",
    "  with tf.name_scope('loss'):\n",
    "    loss = tf.reduce_mean(\n",
    "      tf.nn.softmax_cross_entropy_with_logits(labels=tf_train_labels, logits=logits))\n",
    "    \n",
    "  # Optimizer.\n",
    "  optimizer = tf.train.GradientDescentOptimizer(0.05).minimize(loss)\n",
    "  \n",
    "  # Predictions for the training, validation, and test data.\n",
    "  with tf.name_scope('prediction'):\n",
    "    train_prediction = tf.nn.softmax(logits, name='softmax_train_prediction')\n",
    "    valid_prediction = tf.nn.softmax(model(tf_valid_dataset), name='softmax_valid_prediction')\n",
    "    test_prediction = tf.nn.softmax(model(tf_test_dataset), name='softmax_test_prediction')\n",
    "\n",
    "num_steps = 1001\n",
    "\n",
    "with tf.Session(graph=graph) as session:\n",
    "  tf.global_variables_initializer().run()\n",
    "  print('Initialized')\n",
    "  train_writer = tf.summary.FileWriter('/tmp/tensorboard/cnn/run9', session.graph)\n",
    "  for step in range(num_steps):\n",
    "    offset = (step * batch_size) % (train_labels.shape[0] - batch_size)\n",
    "    batch_data = train_dataset[offset:(offset + batch_size), :, :, :]\n",
    "    batch_labels = train_labels[offset:(offset + batch_size), :]\n",
    "    feed_dict = {tf_train_dataset : batch_data, tf_train_labels : batch_labels}\n",
    "    _, l, predictions = session.run(\n",
    "      [optimizer, loss, train_prediction], feed_dict=feed_dict)\n",
    "    if (step % 50 == 0):\n",
    "      print('Minibatch loss at step %d: %f' % (step, l))\n",
    "      print('Minibatch accuracy: %.1f%%' % accuracy(predictions, batch_labels))\n",
    "      print('Validation accuracy: %.1f%%' % accuracy(\n",
    "        valid_prediction.eval(), valid_labels))\n",
    "  print('Test accuracy: %.1f%%' % accuracy(test_prediction.eval(), test_labels))"
   ]
  },
  {
   "cell_type": "markdown",
   "metadata": {},
   "source": [
    "Performance before changes:  \n",
    "Minibatch loss at step 950: 0.611567  \n",
    "Minibatch accuracy: 81.2%  \n",
    "Validation accuracy: 82.7%  \n",
    "Minibatch loss at step 1000: 0.406159  \n",
    "Minibatch accuracy: 87.5%  \n",
    "Validation accuracy: 81.9%  \n",
    "Test accuracy: 89.3%  \n",
    "\n",
    "Performance after changes (adding max-pooling):\n",
    "Minibatch loss at step 950: 0.488780  \n",
    "Minibatch accuracy: 81.2%  \n",
    "Validation accuracy: 84.2%  \n",
    "Minibatch loss at step 1000: 0.375930  \n",
    "Minibatch accuracy: 93.8%  \n",
    "Validation accuracy: 84.0%  \n",
    "Test accuracy: 90.7%  \n"
   ]
  },
  {
   "cell_type": "markdown",
   "metadata": {
    "colab_type": "text",
    "id": "klf21gpbAgb-"
   },
   "source": [
    "---\n",
    "Problem 2\n",
    "---------\n",
    "\n",
    "Try to get the best performance you can using a convolutional net. Look for example at the classic [LeNet5](http://yann.lecun.com/exdb/lenet/) architecture, adding Dropout, and/or adding learning rate decay.\n",
    "\n",
    "---"
   ]
  },
  {
   "cell_type": "code",
   "execution_count": null,
   "metadata": {
    "collapsed": false
   },
   "outputs": [],
   "source": [
    "#\n",
    "#\n",
    "# CNN with dropouts and learning rate decay\n",
    "#\n",
    "#\n",
    "batch_size = 16\n",
    "patch_size = 5\n",
    "depth = 16\n",
    "num_hidden = 64\n",
    "\n",
    "###graph = tf.Graph()\n",
    "tf.reset_default_graph()\n",
    "###graph = tf.Graph()\n",
    "session = tf.Session()\n",
    "with session.as_default():\n",
    "  tf.set_random_seed(1234)\n",
    "\n",
    "  # Input data.\n",
    "  tf_train_dataset = tf.placeholder(\n",
    "    tf.float32, shape=(batch_size, image_size, image_size, num_channels))\n",
    "  tf_train_labels = tf.placeholder(tf.float32, shape=(batch_size, num_labels))\n",
    "  tf_valid_dataset = tf.constant(valid_dataset)\n",
    "  tf_test_dataset = tf.constant(test_dataset)\n",
    "\n",
    "# Set up dropout probability placeholder - only apply during training.\n",
    "  keep_prob_val = tf.placeholder(tf.float32,shape=())  \n",
    "\n",
    "  # Variables.\n",
    "  layer1_weights = tf.Variable(tf.truncated_normal(\n",
    "      [patch_size, patch_size, num_channels, depth], stddev=0.1, seed=12345), name='layer1_weights')\n",
    "  layer1_biases = tf.Variable(tf.zeros([depth]), name='layer1_biases')\n",
    "  layer2_weights = tf.Variable(tf.truncated_normal(\n",
    "      [patch_size, patch_size, depth, depth], stddev=0.1, seed=12347), name='layer2_weights')\n",
    "  layer2_biases = tf.Variable(tf.constant(1.0, shape=[depth]), name='layer2_biases')\n",
    "  layer3_weights = tf.Variable(tf.truncated_normal(\n",
    "      [image_size // 4 * image_size // 4 * depth, num_hidden], stddev=0.1, seed=12349), name='layer3_weights')\n",
    "  layer3_biases = tf.Variable(tf.constant(1.0, shape=[num_hidden]), name='layer3_biases')\n",
    "  layer4_weights = tf.Variable(tf.truncated_normal(\n",
    "      [num_hidden, num_labels], stddev=0.1, seed=12351), name='layer4_weights')\n",
    "  layer4_biases = tf.Variable(tf.constant(1.0, shape=[num_labels]), name='layer4_biases')\n",
    "  \n",
    "  # Model.\n",
    "  def model(data):\n",
    "###    conv1 = tf.nn.conv2d(data, layer1_weights, [1, 2, 2, 1], padding='SAME', name='conv1')\n",
    "    conv1 = tf.nn.conv2d(data, layer1_weights, [1, 1, 1, 1], padding='SAME', name='conv1')\n",
    "    max_pool_1 = tf.nn.max_pool(conv1, ksize=[1,2,2,1], strides=[1,2,2,1], padding='SAME',name='max_pool_1')\n",
    "###    hidden1 = tf.nn.relu(conv1 + layer1_biases, name='hidden_relu_1')\n",
    "    hidden1 = tf.nn.relu(max_pool_1 + layer1_biases, name='hidden_relu_1')\n",
    "###    conv2 = tf.nn.conv2d(hidden1, layer2_weights, [1, 2, 2, 1], padding='SAME', name='conv2')\n",
    "    conv2 = tf.nn.conv2d(hidden1, layer2_weights, [1, 1, 1, 1], padding='SAME', name='conv2')\n",
    "    max_pool_2 = tf.nn.max_pool(conv2, ksize=[1,2,2,1], strides=[1,2,2,1], padding='SAME',name='max_pool_2')\n",
    "###    hidden2 = tf.nn.relu(conv2 + layer2_biases, name='hidden_relu_2')\n",
    "    hidden_relu_2 = tf.nn.relu(max_pool_2 + layer2_biases, name='hidden_relu_2')\n",
    "    dropout_1 = tf.nn.dropout(hidden_relu_2, keep_prob_val, seed=123477, name='dropout_1')\n",
    "    shape = dropout_1.get_shape().as_list()\n",
    "    reshape = tf.reshape(dropout_1, [shape[0], shape[1] * shape[2] * shape[3]])\n",
    "    hidden3 = tf.nn.relu(tf.matmul(reshape, layer3_weights) + layer3_biases, name='hidden_relu_3')\n",
    "    return tf.matmul(hidden3, layer4_weights) + layer4_biases, dropout_1, hidden_relu_2\n",
    "  \n",
    "  # Training computation.\n",
    "  logits, dropout_test, hidden_test = model(tf_train_dataset)\n",
    "  with tf.name_scope('loss'):\n",
    "    loss = tf.reduce_mean(\n",
    "      tf.nn.softmax_cross_entropy_with_logits(labels=tf_train_labels, logits=logits))\n",
    "    \n",
    "  # Optimizer.\n",
    "  global_step = tf.Variable(0)  # count the number of steps taken.\n",
    "  starter_learning_rate = 0.05\n",
    "  decay_steps = 1000\n",
    "  decay_rate=0.96\n",
    "  learning_rate = tf.train.exponential_decay(starter_learning_rate, global_step,\n",
    "                                           decay_steps, decay_rate, staircase=False)\n",
    "\n",
    "  optimizer = tf.train.GradientDescentOptimizer(learning_rate).minimize(loss, global_step=global_step)\n",
    "###  optimizer = tf.train.GradientDescentOptimizer(0.05).minimize(loss)\n",
    "  \n",
    "  # Predictions for the training, validation, and test data.\n",
    "  with tf.name_scope('prediction'):\n",
    "    train_prediction = tf.nn.softmax(logits, name='softmax_train_prediction')\n",
    "    vp, dropout_test_vp, hidden_test_vp = model(tf_valid_dataset)\n",
    "    tp, dropout_test_tp, hidden_test_tp = model(tf_test_dataset)\n",
    "    valid_prediction = tf.nn.softmax(vp, name='softmax_valid_prediction')\n",
    "    test_prediction = tf.nn.softmax(tp, name='softmax_test_prediction')\n",
    "\n",
    "#\n",
    "# Now do training.\n",
    "#\n",
    "  num_steps = 1001\n",
    "\n",
    "#with tf.Session(graph=graph) as session:\n",
    "  tf.global_variables_initializer().run()\n",
    "  print('Initialized')\n",
    "  train_writer = tf.summary.FileWriter('/tmp/tensorboard/cnn_drop/run4', session.graph)\n",
    "  for step in range(num_steps):\n",
    "    offset = (step * batch_size) % (train_labels.shape[0] - batch_size)\n",
    "    batch_data = train_dataset[offset:(offset + batch_size), :, :, :]\n",
    "    batch_labels = train_labels[offset:(offset + batch_size), :]\n",
    "    feed_dict = {tf_train_dataset : batch_data, tf_train_labels : batch_labels, \n",
    "                 keep_prob_val : 0.5 }\n",
    "    _, l, predictions, dropout_test_res, hidden_test_res, learning_rate_res = session.run(\n",
    "      [optimizer, loss, train_prediction, dropout_test, hidden_test, learning_rate], feed_dict=feed_dict)\n",
    "    if (step % 50 == 0):\n",
    "      print('hidden_test_res[0,0,0,0], hidden_test_res[0,0,0,1] = ', hidden_test_res[0,0,0,0], hidden_test_res[0,0,0,1])\n",
    "      print('dropout_test_res[0,0,0,0], dropout_test_res[0,0,0,1] = ', dropout_test_res[0,0,0,0], dropout_test_res[0,0,0,1])\n",
    "      print('learning_rate_res = ', learning_rate_res)\n",
    "      print('Minibatch loss at step %d: %f' % (step, l))\n",
    "      print('Minibatch accuracy: %.1f%%' % accuracy(predictions, batch_labels))\n",
    "###      dropout = session.run(dropout_1,feed_dict=feed_dict)\n",
    "###      print('dropout_1[0,0,0,0], dropout_1[0,0,0,1] = ', dropout[0,0,0,0], dropout[0,0,0,1] )\n",
    "###      print('Validation accuracy: %.1f%%' % accuracy(\n",
    "###        valid_prediction.eval(), valid_labels))\n",
    "      feed_dict = { keep_prob_val : 1.0 }\n",
    "      predictions = session.run(valid_prediction, feed_dict=feed_dict)\n",
    "      print('Validation accuracy: %.1f%%' % accuracy(predictions, valid_labels))\n",
    "    \n",
    "  # Test predictions.\n",
    "  feed_dict = { keep_prob_val : 1.0 }\n",
    "  predictions = session.run(test_prediction, feed_dict=feed_dict)\n",
    "  print('Test accuracy: %.1f%%' % accuracy(predictions, test_labels))"
   ]
  },
  {
   "cell_type": "markdown",
   "metadata": {},
   "source": [
    "Before modifications (should match results from max-pool problem 1)  \n",
    "Minibatch loss at step 950: 0.488780  \n",
    "Minibatch accuracy: 81.2%  \n",
    "Validation accuracy: 84.2%  \n",
    "Minibatch loss at step 1000: 0.375930  \n",
    "Minibatch accuracy: 93.8%  \n",
    "Validation accuracy: 84.0%  \n",
    "Test accuracy: 90.7%  \n",
    "\n",
    "Results from max-pool problem 1:  \n",
    "Performance after changes (adding max-pooling):  \n",
    "Minibatch loss at step 950: 0.488780  \n",
    "Minibatch accuracy: 81.2%  \n",
    "Validation accuracy: 84.2%  \n",
    "Minibatch loss at step 1000: 0.375930  \n",
    "Minibatch accuracy: 93.8%  \n",
    "Validation accuracy: 84.0%  \n",
    "Test accuracy: 90.7%\n",
    "\n",
    "Results after modifications (adding drop outs - 50%):  \n",
    "Minibatch loss at step 950: 0.523877  \n",
    "Minibatch accuracy: 87.5%  \n",
    "Validation accuracy: 84.0%  \n",
    "Minibatch loss at step 1000: 0.334872  \n",
    "Minibatch accuracy: 87.5%  \n",
    "Validation accuracy: 83.8%  \n",
    "Test accuracy: 90.3%  \n",
    "\n",
    "Results after modifications (adding drop outs - 50% + learning rate decay):\n",
    "Minibatch loss at step 950: 0.414466  \n",
    "Minibatch accuracy: 87.5%  \n",
    "Validation accuracy: 83.9%  \n",
    "Minibatch loss at step 1000: 0.471627  \n",
    "Minibatch accuracy: 81.2%  \n",
    "Validation accuracy: 84.0%  \n",
    "Test accuracy: 90.8%  "
   ]
  },
  {
   "cell_type": "code",
   "execution_count": null,
   "metadata": {
    "collapsed": true
   },
   "outputs": [],
   "source": []
  }
 ],
 "metadata": {
  "colab": {
   "default_view": {},
   "name": "4_convolutions.ipynb",
   "provenance": [],
   "version": "0.3.2",
   "views": {}
  },
  "kernelspec": {
   "display_name": "Python 3",
   "language": "python",
   "name": "python3"
  },
  "language_info": {
   "codemirror_mode": {
    "name": "ipython",
    "version": 3
   },
   "file_extension": ".py",
   "mimetype": "text/x-python",
   "name": "python",
   "nbconvert_exporter": "python",
   "pygments_lexer": "ipython3",
   "version": "3.5.3"
  }
 },
 "nbformat": 4,
 "nbformat_minor": 0
}
